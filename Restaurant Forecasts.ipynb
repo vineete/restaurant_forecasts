{
 "cells": [
  {
   "cell_type": "code",
   "execution_count": 1,
   "metadata": {
    "collapsed": true
   },
   "outputs": [],
   "source": [
    "import numpy as np\n",
    "import pandas as pd"
   ]
  },
  {
   "cell_type": "code",
   "execution_count": 2,
   "metadata": {
    "collapsed": true
   },
   "outputs": [],
   "source": [
    "training_data = pd.read_csv(\"train.csv\")\n",
    "testing_data = pd.read_csv(\"test.csv\")"
   ]
  },
  {
   "cell_type": "code",
   "execution_count": 3,
   "metadata": {},
   "outputs": [
    {
     "name": "stdout",
     "output_type": "stream",
     "text": [
      "   Id   Open Date        City  City Group Type  P1   P2   P3   P4  P5  \\\n",
      "0   0  07/17/1999    İstanbul  Big Cities   IL   4  5.0  4.0  4.0   2   \n",
      "1   1  02/14/2008      Ankara  Big Cities   FC   4  5.0  4.0  4.0   1   \n",
      "2   2  03/09/2013  Diyarbakır       Other   IL   2  4.0  2.0  5.0   2   \n",
      "3   3  02/02/2012       Tokat       Other   IL   6  4.5  6.0  6.0   4   \n",
      "4   4  05/09/2009   Gaziantep       Other   IL   3  4.0  3.0  4.0   2   \n",
      "\n",
      "     ...      P29  P30  P31  P32  P33  P34  P35  P36  P37    revenue  \n",
      "0    ...      3.0    5    3    4    5    5    4    3    4  5653753.0  \n",
      "1    ...      3.0    0    0    0    0    0    0    0    0  6923131.0  \n",
      "2    ...      3.0    0    0    0    0    0    0    0    0  2055379.0  \n",
      "3    ...      7.5   25   12   10    6   18   12   12    6  2675511.0  \n",
      "4    ...      3.0    5    1    3    2    3    4    3    3  4316715.0  \n",
      "\n",
      "[5 rows x 43 columns]\n"
     ]
    }
   ],
   "source": [
    "print(training_data.head())"
   ]
  },
  {
   "cell_type": "code",
   "execution_count": 4,
   "metadata": {
    "collapsed": true
   },
   "outputs": [],
   "source": [
    "ids = np.array(testing_data[\"Id\"])"
   ]
  },
  {
   "cell_type": "code",
   "execution_count": 5,
   "metadata": {},
   "outputs": [],
   "source": [
    "training_data = training_data.drop(\"Id\",axis = 1)\n",
    "testing_data = testing_data.drop(\"Id\",axis = 1)"
   ]
  },
  {
   "cell_type": "code",
   "execution_count": 6,
   "metadata": {},
   "outputs": [],
   "source": [
    "current_date = pd.to_datetime(\"today\")\n",
    "current_year = current_date.year\n",
    "\n",
    "training_data[\"Open Date\"] = pd.to_datetime(training_data[\"Open Date\"])\n",
    "testing_data[\"Open Date\"] = pd.to_datetime(testing_data[\"Open Date\"])\n",
    "\n",
    "train_years = training_data[\"Open Date\"].dt.year\n",
    "test_years = testing_data[\"Open Date\"].dt.year\n",
    "\n",
    "training_data[\"Years Open\"] = current_year - train_years\n",
    "testing_data[\"Years Open\"] = current_year - test_years\n",
    "\n",
    "training_data = training_data.drop(\"Open Date\",axis = 1)\n",
    "testing_data = testing_data.drop(\"Open Date\",axis = 1)"
   ]
  },
  {
   "cell_type": "code",
   "execution_count": 7,
   "metadata": {},
   "outputs": [],
   "source": [
    "training_data = training_data.drop(\"City\",axis = 1)\n",
    "testing_data = testing_data.drop(\"City\",axis = 1)"
   ]
  },
  {
   "cell_type": "code",
   "execution_count": 8,
   "metadata": {},
   "outputs": [],
   "source": [
    "city_group_train = pd.get_dummies(training_data[\"City Group\"])\n",
    "city_group_test = pd.get_dummies(testing_data[\"City Group\"])\n",
    "\n",
    "training_data = training_data.join(city_group_train)\n",
    "testing_data = testing_data.join(city_group_test)\n",
    "\n",
    "training_data = training_data.drop(\"City Group\",axis = 1)\n",
    "testing_data = testing_data.drop(\"City Group\",axis =1)"
   ]
  },
  {
   "cell_type": "code",
   "execution_count": 9,
   "metadata": {},
   "outputs": [
    {
     "name": "stdout",
     "output_type": "stream",
     "text": [
      "  Type  P1   P2   P3   P4  P5  P6  P7  P8  P9  ...    P32  P33  P34  P35  P36  \\\n",
      "0   IL   4  5.0  4.0  4.0   2   2   5   4   5  ...      4    5    5    4    3   \n",
      "1   FC   4  5.0  4.0  4.0   1   2   5   5   5  ...      0    0    0    0    0   \n",
      "2   IL   2  4.0  2.0  5.0   2   3   5   5   5  ...      0    0    0    0    0   \n",
      "3   IL   6  4.5  6.0  6.0   4   4  10   8  10  ...     10    6   18   12   12   \n",
      "4   IL   3  4.0  3.0  4.0   2   2   5   5   5  ...      3    2    3    4    3   \n",
      "\n",
      "   P37    revenue  Years Open  Big Cities  Other  \n",
      "0    4  5653753.0          19           1      0  \n",
      "1    0  6923131.0          10           1      0  \n",
      "2    0  2055379.0           5           0      1  \n",
      "3    6  2675511.0           6           0      1  \n",
      "4    3  4316715.0           9           0      1  \n",
      "\n",
      "[5 rows x 42 columns]\n"
     ]
    }
   ],
   "source": [
    "print(training_data.head())"
   ]
  },
  {
   "cell_type": "code",
   "execution_count": 10,
   "metadata": {
    "collapsed": true
   },
   "outputs": [],
   "source": [
    "city_type_train = pd.get_dummies(training_data[\"Type\"])\n",
    "city_type_test = pd.get_dummies(testing_data[\"Type\"])\n",
    "\n",
    "training_data = training_data.join(city_type_train)\n",
    "testing_data = testing_data.join(city_type_test)\n",
    "\n",
    "training_data = training_data.drop(\"Type\",axis = 1)\n",
    "testing_data = testing_data.drop(\"Type\",axis =1)"
   ]
  },
  {
   "cell_type": "code",
   "execution_count": 11,
   "metadata": {},
   "outputs": [
    {
     "name": "stdout",
     "output_type": "stream",
     "text": [
      "   P1   P2   P3   P4  P5  P6  P7  P8  P9  P10 ...  P35  P36  P37    revenue  \\\n",
      "0   4  5.0  4.0  4.0   2   2   5   4   5    5 ...    4    3    4  5653753.0   \n",
      "1   4  5.0  4.0  4.0   1   2   5   5   5    5 ...    0    0    0  6923131.0   \n",
      "2   2  4.0  2.0  5.0   2   3   5   5   5    5 ...    0    0    0  2055379.0   \n",
      "3   6  4.5  6.0  6.0   4   4  10   8  10   10 ...   12   12    6  2675511.0   \n",
      "4   3  4.0  3.0  4.0   2   2   5   5   5    5 ...    4    3    3  4316715.0   \n",
      "\n",
      "   Years Open  Big Cities  Other  DT  FC  IL  \n",
      "0          19           1      0   0   0   1  \n",
      "1          10           1      0   0   1   0  \n",
      "2           5           0      1   0   0   1  \n",
      "3           6           0      1   0   0   1  \n",
      "4           9           0      1   0   0   1  \n",
      "\n",
      "[5 rows x 44 columns]\n",
      "   P1   P2   P3   P4  P5  P6  P7  P8  P9  P10 ...  P35  P36  P37  Years Open  \\\n",
      "0   1  4.0  4.0  4.0   1   2   5   4   5    5 ...    0    0    0           7   \n",
      "1   3  4.0  4.0  4.0   2   2   5   3   4    4 ...    0    0    0           7   \n",
      "2   3  4.0  4.0  4.0   2   2   5   4   4    5 ...    0    0    0           5   \n",
      "3   2  4.0  4.0  4.0   2   3   5   4   5    4 ...    0    0    0           5   \n",
      "4   2  4.0  4.0  4.0   1   2   5   4   5    4 ...    0    0    0           5   \n",
      "\n",
      "   Big Cities  Other  DT  FC  IL  MB  \n",
      "0           0      1   0   1   0   0  \n",
      "1           0      1   0   0   1   0  \n",
      "2           1      0   0   1   0   0  \n",
      "3           0      1   0   0   1   0  \n",
      "4           0      1   0   1   0   0  \n",
      "\n",
      "[5 rows x 44 columns]\n"
     ]
    }
   ],
   "source": [
    "print(training_data.head())\n",
    "print(testing_data.head())"
   ]
  },
  {
   "cell_type": "code",
   "execution_count": 12,
   "metadata": {
    "collapsed": true
   },
   "outputs": [],
   "source": [
    "testing_data = testing_data.drop(\"MB\",axis = 1)"
   ]
  },
  {
   "cell_type": "code",
   "execution_count": 13,
   "metadata": {
    "collapsed": true
   },
   "outputs": [],
   "source": [
    "training_data.to_csv(\"processed_train_data.csv\")\n",
    "testing_data.to_csv(\"processed_test_data.csv\")"
   ]
  },
  {
   "cell_type": "code",
   "execution_count": 14,
   "metadata": {
    "collapsed": true
   },
   "outputs": [],
   "source": [
    "training_targets = training_data[\"revenue\"]\n",
    "training_data = training_data.drop(\"revenue\",axis = 1)"
   ]
  },
  {
   "cell_type": "code",
   "execution_count": 15,
   "metadata": {},
   "outputs": [
    {
     "name": "stdout",
     "output_type": "stream",
     "text": [
      "(137, 43)\n",
      "(100000, 43)\n"
     ]
    }
   ],
   "source": [
    "print(training_data.shape)\n",
    "print(testing_data.shape)"
   ]
  },
  {
   "cell_type": "code",
   "execution_count": 16,
   "metadata": {},
   "outputs": [],
   "source": [
    "from sklearn.ensemble import RandomForestRegressor\n",
    "model = RandomForestRegressor(n_estimators = 1000,n_jobs = -1)\n",
    "fitter = model.fit(training_data,training_targets)\n",
    "predictions = model.predict(testing_data)"
   ]
  },
  {
   "cell_type": "code",
   "execution_count": 17,
   "metadata": {},
   "outputs": [
    {
     "name": "stdout",
     "output_type": "stream",
     "text": [
      "[ 4027179.176  3464288.022  3648663.578  3616550.257  4632124.816\n",
      "  4156384.247  4069865.854  3983924.206  4991612.58   3521215.481]\n"
     ]
    }
   ],
   "source": [
    "print(predictions[:10])"
   ]
  },
  {
   "cell_type": "code",
   "execution_count": 18,
   "metadata": {},
   "outputs": [],
   "source": [
    "final_preds = pd.DataFrame({\"id\": ids,\"Prediction\": predictions})"
   ]
  },
  {
   "cell_type": "code",
   "execution_count": 19,
   "metadata": {},
   "outputs": [
    {
     "name": "stdout",
     "output_type": "stream",
     "text": [
      "    Prediction  id\n",
      "0  4027179.176   0\n",
      "1  3464288.022   1\n",
      "2  3648663.578   2\n",
      "3  3616550.257   3\n",
      "4  4632124.816   4\n"
     ]
    }
   ],
   "source": [
    "print(final_preds.head())"
   ]
  },
  {
   "cell_type": "code",
   "execution_count": 20,
   "metadata": {
    "collapsed": true
   },
   "outputs": [],
   "source": [
    "final_preds.to_csv(\"revenue_prediction.csv\",index = False)"
   ]
  },
  {
   "cell_type": "code",
   "execution_count": 21,
   "metadata": {},
   "outputs": [],
   "source": [
    "import pickle\n",
    "filename = \"random_forest_model.sav\"\n",
    "pickle.dump(model,open(filename,\"wb\"))"
   ]
  }
 ],
 "metadata": {
  "kernelspec": {
   "display_name": "Python 3",
   "language": "python",
   "name": "python3"
  },
  "language_info": {
   "codemirror_mode": {
    "name": "ipython",
    "version": 3
   },
   "file_extension": ".py",
   "mimetype": "text/x-python",
   "name": "python",
   "nbconvert_exporter": "python",
   "pygments_lexer": "ipython3",
   "version": "3.6.1"
  }
 },
 "nbformat": 4,
 "nbformat_minor": 2
}
