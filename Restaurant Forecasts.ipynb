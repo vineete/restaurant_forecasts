{
 "cells": [
  {
   "cell_type": "code",
   "execution_count": null,
   "metadata": {
    "collapsed": true
   },
   "outputs": [],
   "source": [
    "#import key libraries\n",
    "import numpy as np\n",
    "import pandas as pd"
   ]
  },
  {
   "cell_type": "code",
   "execution_count": null,
   "metadata": {
    "collapsed": true
   },
   "outputs": [],
   "source": [
    "#load in training and testing data\n",
    "training_data = pd.read_csv(\"train.csv\")\n",
    "testing_data = pd.read_csv(\"test.csv\")"
   ]
  },
  {
   "cell_type": "code",
   "execution_count": null,
   "metadata": {},
   "outputs": [],
   "source": [
    "print(training_data.head())"
   ]
  },
  {
   "cell_type": "code",
   "execution_count": null,
   "metadata": {
    "collapsed": true
   },
   "outputs": [],
   "source": [
    "#store the id numbers of the testing data entries\n",
    "ids = np.array(testing_data[\"Id\"])"
   ]
  },
  {
   "cell_type": "code",
   "execution_count": null,
   "metadata": {
    "collapsed": true
   },
   "outputs": [],
   "source": [
    "#delete the ID column\n",
    "training_data = training_data.drop(\"Id\",axis = 1)\n",
    "testing_data = testing_data.drop(\"Id\",axis = 1)"
   ]
  },
  {
   "cell_type": "code",
   "execution_count": null,
   "metadata": {
    "collapsed": true
   },
   "outputs": [],
   "source": [
    "#delete the open date column and replace it with a feature detailing how long the restaurant has been open\n",
    "current_date = pd.to_datetime(\"today\")\n",
    "current_year = current_date.year\n",
    "\n",
    "training_data[\"Open Date\"] = pd.to_datetime(training_data[\"Open Date\"])\n",
    "testing_data[\"Open Date\"] = pd.to_datetime(testing_data[\"Open Date\"])\n",
    "\n",
    "train_years = training_data[\"Open Date\"].dt.year\n",
    "test_years = testing_data[\"Open Date\"].dt.year\n",
    "\n",
    "training_data[\"Years Open\"] = current_year - train_years\n",
    "testing_data[\"Years Open\"] = current_year - test_years\n",
    "\n",
    "training_data = training_data.drop(\"Open Date\",axis = 1)\n",
    "testing_data = testing_data.drop(\"Open Date\",axis = 1)"
   ]
  },
  {
   "cell_type": "code",
   "execution_count": null,
   "metadata": {
    "collapsed": true
   },
   "outputs": [],
   "source": [
    "#delete the specific city names since the important information is encapsulated by other features like city types\n",
    "training_data = training_data.drop(\"City\",axis = 1)\n",
    "testing_data = testing_data.drop(\"City\",axis = 1)"
   ]
  },
  {
   "cell_type": "code",
   "execution_count": null,
   "metadata": {
    "collapsed": true
   },
   "outputs": [],
   "source": [
    "#Replace the city group feature with two columns (big cities and other) whose values are either 1 or 0\n",
    "city_group_train = pd.get_dummies(training_data[\"City Group\"])\n",
    "city_group_test = pd.get_dummies(testing_data[\"City Group\"])\n",
    "\n",
    "training_data = training_data.join(city_group_train)\n",
    "testing_data = testing_data.join(city_group_test)\n",
    "\n",
    "training_data = training_data.drop(\"City Group\",axis = 1)\n",
    "testing_data = testing_data.drop(\"City Group\",axis =1)"
   ]
  },
  {
   "cell_type": "code",
   "execution_count": null,
   "metadata": {},
   "outputs": [],
   "source": [
    "print(training_data.head())"
   ]
  },
  {
   "cell_type": "code",
   "execution_count": null,
   "metadata": {
    "collapsed": true
   },
   "outputs": [],
   "source": [
    "#replace the restaurant type feature with categorical columns\n",
    "city_type_train = pd.get_dummies(training_data[\"Type\"])\n",
    "city_type_test = pd.get_dummies(testing_data[\"Type\"])\n",
    "\n",
    "training_data = training_data.join(city_type_train)\n",
    "testing_data = testing_data.join(city_type_test)\n",
    "\n",
    "training_data = training_data.drop(\"Type\",axis = 1)\n",
    "testing_data = testing_data.drop(\"Type\",axis =1)"
   ]
  },
  {
   "cell_type": "code",
   "execution_count": null,
   "metadata": {},
   "outputs": [],
   "source": [
    "print(training_data.head())\n",
    "print(testing_data.head())"
   ]
  },
  {
   "cell_type": "code",
   "execution_count": null,
   "metadata": {
    "collapsed": true
   },
   "outputs": [],
   "source": [
    "#delete the testing column for MB since it isn't present in the training set\n",
    "testing_data = testing_data.drop(\"MB\",axis = 1)"
   ]
  },
  {
   "cell_type": "code",
   "execution_count": null,
   "metadata": {
    "collapsed": true
   },
   "outputs": [],
   "source": [
    "#save the training and testing dataframes for future use\n",
    "training_data.to_csv(\"processed_train_data.csv\")\n",
    "testing_data.to_csv(\"processed_test_data.csv\")"
   ]
  },
  {
   "cell_type": "code",
   "execution_count": null,
   "metadata": {
    "collapsed": true
   },
   "outputs": [],
   "source": [
    "#separate revenue from the rest of the training data\n",
    "training_targets = training_data[\"revenue\"]\n",
    "training_data = training_data.drop(\"revenue\",axis = 1)"
   ]
  },
  {
   "cell_type": "code",
   "execution_count": null,
   "metadata": {},
   "outputs": [],
   "source": [
    "print(training_data.shape)\n",
    "print(testing_data.shape)"
   ]
  },
  {
   "cell_type": "code",
   "execution_count": null,
   "metadata": {
    "collapsed": true
   },
   "outputs": [],
   "source": [
    "#create and train a random forest model with 1000 trees\n",
    "from sklearn.ensemble import RandomForestRegressor\n",
    "model = RandomForestRegressor(n_estimators = 1000,n_jobs = -1)\n",
    "fitter = model.fit(training_data,training_targets)\n",
    "predictions = model.predict(testing_data)"
   ]
  },
  {
   "cell_type": "code",
   "execution_count": null,
   "metadata": {},
   "outputs": [],
   "source": [
    "print(predictions[:10])"
   ]
  },
  {
   "cell_type": "code",
   "execution_count": null,
   "metadata": {
    "collapsed": true
   },
   "outputs": [],
   "source": [
    "#store the model's predictions\n",
    "final_preds = pd.DataFrame({\"id\": ids,\"Prediction\": predictions})"
   ]
  },
  {
   "cell_type": "code",
   "execution_count": null,
   "metadata": {},
   "outputs": [],
   "source": [
    "print(final_preds.head())"
   ]
  },
  {
   "cell_type": "code",
   "execution_count": null,
   "metadata": {
    "collapsed": true
   },
   "outputs": [],
   "source": [
    "#write the predictions to file\n",
    "final_preds.to_csv(\"revenue_prediction.csv\",index = False)"
   ]
  },
  {
   "cell_type": "code",
   "execution_count": null,
   "metadata": {
    "collapsed": true
   },
   "outputs": [],
   "source": [
    "#save the model for separate analysis\n",
    "import pickle\n",
    "filename = \"random_forest_model.sav\"\n",
    "pickle.dump(model,open(filename,\"wb\"))"
   ]
  }
 ],
 "metadata": {
  "kernelspec": {
   "display_name": "Python 3",
   "language": "python",
   "name": "python3"
  },
  "language_info": {
   "codemirror_mode": {
    "name": "ipython",
    "version": 3
   },
   "file_extension": ".py",
   "mimetype": "text/x-python",
   "name": "python",
   "nbconvert_exporter": "python",
   "pygments_lexer": "ipython3",
   "version": "3.6.1"
  }
 },
 "nbformat": 4,
 "nbformat_minor": 2
}
